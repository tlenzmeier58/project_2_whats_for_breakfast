{
 "cells": [
  {
   "cell_type": "markdown",
   "id": "0afd292a",
   "metadata": {},
   "source": [
    "# Technical Report"
   ]
  },
  {
   "cell_type": "markdown",
   "id": "f85bd638",
   "metadata": {},
   "source": [
    "You must have a technical report that describes your ETL process. If it were me, I'd use my Jupyter Notebook as this technical report. I'd have sections called Overview, Extract, Transform, and Load, and I'd use Jupyter Notebook's Markdown feature to describe each of these items. My final notebook would be a mix of headings, text, code, and comments, and together these would form the technical report.\n",
    "\n",
    "\n",
    "The technical report is the document that describes the ETL process in terms of your particular project; e.g., \"We start by loading the CSV file into a dataframe and then we proceed to rename the following columns for improved readability ....\"\n",
    "\n",
    "\n",
    "Do not confuse the technical report (which talks about the ETL process) with the instructions (which talk about how to run the code and reproduce the database)."
   ]
  },
  {
   "cell_type": "markdown",
   "id": "d4e156b6",
   "metadata": {},
   "source": [
    "## Overview"
   ]
  },
  {
   "cell_type": "markdown",
   "id": "8bc84019",
   "metadata": {},
   "source": [
    "A report detailing the ETL steps taken in this project.  "
   ]
  },
  {
   "cell_type": "markdown",
   "id": "a60123b5",
   "metadata": {},
   "source": [
    "## Extract"
   ]
  },
  {
   "cell_type": "markdown",
   "id": "27d39dd6",
   "metadata": {},
   "source": [
    "Importantly, this project starts off using the large .csv file "
   ]
  },
  {
   "cell_type": "markdown",
   "id": "408b0bd1",
   "metadata": {},
   "source": [
    "## Transform"
   ]
  },
  {
   "cell_type": "markdown",
   "id": "b8ad53e8",
   "metadata": {},
   "source": []
  },
  {
   "cell_type": "markdown",
   "id": "db9dd934",
   "metadata": {},
   "source": [
    "## Load"
   ]
  },
  {
   "cell_type": "markdown",
   "id": "0c488897",
   "metadata": {},
   "source": []
  }
 ],
 "metadata": {
  "kernelspec": {
   "display_name": "Python 3 (ipykernel)",
   "language": "python",
   "name": "python3"
  },
  "language_info": {
   "codemirror_mode": {
    "name": "ipython",
    "version": 3
   },
   "file_extension": ".py",
   "mimetype": "text/x-python",
   "name": "python",
   "nbconvert_exporter": "python",
   "pygments_lexer": "ipython3",
   "version": "3.8.13"
  }
 },
 "nbformat": 4,
 "nbformat_minor": 5
}
