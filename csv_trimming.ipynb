{
 "cells": [
  {
   "cell_type": "markdown",
   "id": "6536a378",
   "metadata": {},
   "source": [
    "# Trimming Original .csv Files for Github filesize limit"
   ]
  },
  {
   "cell_type": "code",
   "execution_count": null,
   "id": "a1c976e9",
   "metadata": {},
   "outputs": [],
   "source": [
    "import pandas as pd\n",
    "import os"
   ]
  },
  {
   "cell_type": "code",
   "execution_count": null,
   "id": "f6deff64",
   "metadata": {},
   "outputs": [],
   "source": [
    "crops_csv = \"original_csv/crop1.csv\"\n",
    "crops_df = pd.read_csv(crops_csv)\n",
    "crops_df"
   ]
  },
  {
   "cell_type": "code",
   "execution_count": null,
   "id": "40ba1b36",
   "metadata": {},
   "outputs": [],
   "source": [
    "crops_df_trim = crops_df.copy()\n",
    "crops_year = crops_df_trim.loc[(crops_df_trim['Year'] >1979)]\n",
    "crops_year_df = crops_year.copy()\n",
    "crops_year_df.head()"
   ]
  },
  {
   "cell_type": "code",
   "execution_count": null,
   "id": "e7c8a836",
   "metadata": {},
   "outputs": [],
   "source": [
    "crops_year_df.to_csv('trimmed_csv/trimmed_crops.csv',index=False)"
   ]
  },
  {
   "cell_type": "code",
   "execution_count": null,
   "id": "2eca4324",
   "metadata": {},
   "outputs": [],
   "source": [
    "#Verify that csv actually worked"
   ]
  },
  {
   "cell_type": "code",
   "execution_count": null,
   "id": "4ec68e62",
   "metadata": {},
   "outputs": [],
   "source": [
    "crop_trim_csv = \"trimmed_csv/trimmed_crops.csv\"\n",
    "crops1_trim_df = pd.read_csv(crop_trim_csv)\n",
    "crops1_trim_df.head()"
   ]
  },
  {
   "cell_type": "markdown",
   "id": "357aeb85",
   "metadata": {},
   "source": [
    "## Trimming Livestock to match Crops"
   ]
  },
  {
   "cell_type": "code",
   "execution_count": null,
   "id": "2e9c9f1e",
   "metadata": {},
   "outputs": [],
   "source": [
    "live_csv = \"original_csv/live1.csv\"\n",
    "live_df = pd.read_csv(live_csv)\n",
    "live_df"
   ]
  },
  {
   "cell_type": "code",
   "execution_count": null,
   "id": "b161ac6c",
   "metadata": {},
   "outputs": [],
   "source": [
    "live_df_trim = live_df.copy()\n",
    "live_year = live_df_trim.loc[(live_df_trim['Year'] >1979)]\n",
    "live_year_df = live_year.copy()\n",
    "live_year_df.head()"
   ]
  },
  {
   "cell_type": "code",
   "execution_count": null,
   "id": "0cd6f6f8",
   "metadata": {},
   "outputs": [],
   "source": [
    "live_year_df.to_csv('trimmed_csv/trimmed_livestock.csv',index=False)"
   ]
  },
  {
   "cell_type": "code",
   "execution_count": null,
   "id": "4d64f0b8",
   "metadata": {},
   "outputs": [],
   "source": [
    "#Verify that csv actually worked"
   ]
  },
  {
   "cell_type": "code",
   "execution_count": null,
   "id": "b7e6106c",
   "metadata": {},
   "outputs": [],
   "source": [
    "live_trim_csv = \"trimmed_csv/trimmed_livestock.csv\"\n",
    "live1_trim_df = pd.read_csv(live_trim_csv)\n",
    "live1_trim_df.head()"
   ]
  },
  {
   "cell_type": "code",
   "execution_count": null,
   "id": "fbb22bed",
   "metadata": {},
   "outputs": [],
   "source": []
  }
 ],
 "metadata": {
  "kernelspec": {
   "display_name": "PythonData38",
   "language": "python",
   "name": "pythondata38"
  },
  "language_info": {
   "codemirror_mode": {
    "name": "ipython",
    "version": 3
   },
   "file_extension": ".py",
   "mimetype": "text/x-python",
   "name": "python",
   "nbconvert_exporter": "python",
   "pygments_lexer": "ipython3",
   "version": "3.9.12"
  }
 },
 "nbformat": 4,
 "nbformat_minor": 5
}
