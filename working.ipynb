{
 "cells": [
  {
   "cell_type": "code",
   "execution_count": null,
   "metadata": {},
   "outputs": [],
   "source": [
    "#import dependenceis\n",
    "import pandas as pd\n",
    "import sqlalchemy\n",
    "from sqlalchemy import inspect, create_engine, select\n",
    "import numpy as np"
   ]
  },
  {
   "cell_type": "code",
   "execution_count": null,
   "metadata": {},
   "outputs": [],
   "source": [
    "# bring in countries by continent from url\n",
    "\n",
    "url = \"https://statisticstimes.com/geography/countries-by-continents.php\"\n",
    "\n",
    "countries = pd.read_html(url)\n",
    "countries_df = countries[2].copy()\n",
    "countries_df.fillna(\"\")"
   ]
  },
  {
   "cell_type": "markdown",
   "metadata": {},
   "source": [
    "### Import Crops"
   ]
  },
  {
   "cell_type": "code",
   "execution_count": null,
   "metadata": {},
   "outputs": [],
   "source": [
    "crops = pd.read_csv(\"../project_2_whats_for_breakfast/data/crop1.csv\")\n",
    "crops_df = crops\n",
    "crops_df.head()"
   ]
  },
  {
   "cell_type": "markdown",
   "metadata": {},
   "source": [
    "### Import Livestock"
   ]
  },
  {
   "cell_type": "code",
   "execution_count": null,
   "metadata": {},
   "outputs": [],
   "source": [
    "livestock = pd.read_csv(\"../project_2_whats_for_breakfast/data/live1.csv\")\n",
    "livestock_df = livestock\n",
    "livestock_df.head()"
   ]
  },
  {
   "cell_type": "markdown",
   "metadata": {},
   "source": [
    "### Start Transformation"
   ]
  },
  {
   "cell_type": "code",
   "execution_count": null,
   "metadata": {},
   "outputs": [],
   "source": [
    "# Trim crops\n",
    "trim_crops = crops.loc[(crops['Year']>1979)]\n",
    "trim_crops.to_csv(\"../project_2_whats_for_breakfast/data/trimmed_crops.csv\")\n",
    "trimmed_crops_df = trim_crops.copy()\n",
    "trimmed_crops_df.head()"
   ]
  },
  {
   "cell_type": "code",
   "execution_count": null,
   "metadata": {},
   "outputs": [],
   "source": [
    "# Trim Livestock\n",
    "trim_livestock = livestock.loc[(livestock['Year']>1979)]\n",
    "trim_livestock.to_csv(\"../project_2_whats_for_breakfast/data/trimmed_livestock.csv\")\n",
    "trimmed_livestock_df = trim_livestock.copy()\n",
    "trimmed_crops_df.head()"
   ]
  },
  {
   "cell_type": "code",
   "execution_count": null,
   "metadata": {},
   "outputs": [],
   "source": [
    "# Create Crop Items DF\n",
    "crop_items = trimmed_crops_df[['Item', 'Element']].copy()\n",
    "crop_items_dim = pd.DataFrame(crop_items, columns=['Item', 'Element'])\n",
    "crop_items_dim = crop_items_dim.drop_duplicates()\n",
    "crop_items_dim"
   ]
  },
  {
   "cell_type": "code",
   "execution_count": null,
   "metadata": {},
   "outputs": [],
   "source": [
    "# Creat Livestock Items DF\n",
    "livestock_items = trimmed_livestock_df[['Item', 'Element']].copy()\n",
    "livestock_items_dim = pd.DataFrame(livestock_items, columns=['Item', 'Element'])\n",
    "livestock_items_dim = livestock_items_dim.drop_duplicates()\n",
    "livestock_items_dim"
   ]
  },
  {
   "cell_type": "markdown",
   "metadata": {},
   "source": [
    "### Append Crop & Livestock items"
   ]
  },
  {
   "cell_type": "code",
   "execution_count": null,
   "metadata": {},
   "outputs": [],
   "source": [
    "items_dimension = crop_items_dim.append(livestock_items_dim, ignore_index=True)\n",
    "items_dimension"
   ]
  },
  {
   "cell_type": "markdown",
   "metadata": {},
   "source": [
    "### Create year dimension DF"
   ]
  },
  {
   "cell_type": "code",
   "execution_count": null,
   "metadata": {},
   "outputs": [],
   "source": [
    "year = trim_crops['Year']\n",
    "year = year.drop_duplicates()\n",
    "year = pd.DataFrame(year, columns=['Year'])\n",
    "year.dtypes"
   ]
  },
  {
   "cell_type": "code",
   "execution_count": null,
   "metadata": {},
   "outputs": [],
   "source": [
    "year.dtypes"
   ]
  },
  {
   "cell_type": "markdown",
   "metadata": {},
   "source": [
    "### Create Database Connection"
   ]
  },
  {
   "cell_type": "code",
   "execution_count": null,
   "metadata": {},
   "outputs": [],
   "source": [
    "protocol = 'postgresql'\n",
    "username = 'postgres'\n",
    "password = 'bootcamp'\n",
    "host = 'localhost'\n",
    "port = 5432\n",
    "db_name = 'captain_crunch'\n",
    "rds_connection_string = f'{protocol}://{username}:{password}@{host}:{port}/{db_name}'\n",
    "engine = create_engine(rds_connection_string)"
   ]
  },
  {
   "cell_type": "markdown",
   "metadata": {},
   "source": [
    "### Inspect Tables"
   ]
  },
  {
   "cell_type": "code",
   "execution_count": null,
   "metadata": {},
   "outputs": [],
   "source": [
    "inspector = inspect(engine)\n",
    "inspector.get_table_names()"
   ]
  },
  {
   "cell_type": "markdown",
   "metadata": {},
   "source": [
    "### Push Data to Database"
   ]
  },
  {
   "cell_type": "code",
   "execution_count": null,
   "metadata": {},
   "outputs": [],
   "source": [
    "# Push Year to tbl_year\n",
    "year.rename(columns={'Year':'year'}, inplace=True)"
   ]
  },
  {
   "cell_type": "code",
   "execution_count": null,
   "metadata": {},
   "outputs": [],
   "source": [
    "year.to_sql(name='tbl_year', con=engine, if_exists='append', index=False)"
   ]
  },
  {
   "cell_type": "code",
   "execution_count": null,
   "metadata": {},
   "outputs": [],
   "source": [
    "# Push Countries to tbl_countries\n",
    "countries_df.rename(columns={'Country or Area':'country', 'ISO-alpha3 Code':'country_code', 'Region 1':'region', 'Continent':'continent'}, inplace=True)\n",
    "countries_df= countries_df[['country', 'country_code', 'region', 'continent']].copy()\n",
    "countries_df = countries_df.dropna()\n",
    "\n",
    "countries_df.to_sql(name='tbl_countries', con=engine, if_exists='append', index=False)\n"
   ]
  },
  {
   "cell_type": "code",
   "execution_count": null,
   "metadata": {},
   "outputs": [],
   "source": [
    "# Push Item to tbl_item\n",
    "items_dimension.rename(columns={'Item_name':'item_name', 'Element':'item_type'}, inplace=True)\n",
    "items_dimension"
   ]
  },
  {
   "cell_type": "code",
   "execution_count": null,
   "metadata": {},
   "outputs": [],
   "source": [
    "items_dimension.to_sql(name='tbl_item', con=engine, if_exists='append', index=False)"
   ]
  },
  {
   "cell_type": "code",
   "execution_count": null,
   "metadata": {},
   "outputs": [],
   "source": [
    "# Adjust countries_df\n",
    "countries_df = countries_df.rename(columns={'Country or Area':'country', 'ISO-alpha3 Code':'country_code', 'Region 1':'region', 'Continent':'continent'})\n",
    "countries_df = countries_df[['country', 'country_code', 'region', 'continent']]\n",
    "countries_df"
   ]
  },
  {
   "cell_type": "code",
   "execution_count": null,
   "metadata": {},
   "outputs": [],
   "source": [
    "# Push Crops to tbl_crops\n",
    "trimmed_crops_df\n",
    "trimmed_crops_df.rename(columns={'Area':'country', 'Item':'item_name', \\\n",
    "   'Element':'item_type', 'Year':'year', 'Unit':'item_unit', 'Value':'value'}, inplace=True)\n",
    "trimmed_crops_df\n",
    "crops = pd.merge(trimmed_crops_df, countries_df, how='left', on='country')\n",
    "crops = crops[['country_code','item_name', 'item_type', 'year', 'item_unit', 'value']]\n",
    "crops = crops.dropna(how='any')\n",
    "crops['value'] = crops['value'].astype(int)\n",
    "\n",
    "crops.to_sql(name='tbl_crops', con=engine, if_exists='append', index=False)\n"
   ]
  },
  {
   "cell_type": "code",
   "execution_count": null,
   "metadata": {},
   "outputs": [],
   "source": [
    "# Push Livestock to tbl_livestock\n",
    "trimmed_livestock_df.copy()\n",
    "trimmed_livestock_df.rename(columns={'Area':'country', 'Item':'item_name', \\\n",
    "    'Element':'item_type', 'Year':'year', 'Unit':'item_unit', 'Value':'value'}, inplace=True)\n",
    "trimmed_livestock_df = trimmed_livestock_df.dropna(how='any')\n",
    "trimmed_livestock_df['value'] = trimmed_livestock_df['value'].astype(int)\n",
    "livestock = pd.merge(trimmed_livestock_df, countries_df, how='left', on='country')\n",
    "livestock = livestock[['country_code', 'item_name', 'item_type', 'year', 'item_unit', 'value']]\n",
    "livestock = livestock.dropna()\n",
    "livestock.to_sql(name='tbl_livestock', con=engine, if_exists='append', index=False)\n"
   ]
  },
  {
   "cell_type": "code",
   "execution_count": null,
   "metadata": {},
   "outputs": [],
   "source": [
    "#As the columns of the population dataframe are strings, in order to melt the years we want, we create a list from the\n",
    "## year dataframe year column, convert that to a string, and use that in our .melt method \n",
    "year_list = year['year'].values.tolist()\n",
    "year_str = [str(i) for i in year_list]"
   ]
  },
  {
   "cell_type": "code",
   "execution_count": null,
   "metadata": {},
   "outputs": [],
   "source": [
    "# Use melt to transpose certain columns\n",
    "population_df = pd.read_csv(\"../project_2_whats_for_breakfast/data/pop1.csv\")\n",
    "population_df.copy()\n",
    "population_df = population_df.rename(columns={'Country Name':'country', 'Country Code':'country_code'})\n",
    "population_df\n",
    "population_df.dropna(how='any')\n",
    "population = pd.merge(population_df, countries_df, how='inner', on='country')\n",
    "population\n",
    "\n",
    "population = population.melt(\n",
    "    id_vars=['country', 'country_code_x'], value_vars=year_str, \\\n",
    "        var_name='year', value_name='population'\n",
    ")\n",
    "population = population.rename(columns={'country_code_x':'country_code'})\n",
    "population = population.dropna(how='any')"
   ]
  },
  {
   "cell_type": "code",
   "execution_count": null,
   "metadata": {},
   "outputs": [],
   "source": [
    "#Convert the years into int in preperation for database loading. \n",
    "population['year']=population['year'].astype(int)"
   ]
  },
  {
   "cell_type": "code",
   "execution_count": null,
   "metadata": {},
   "outputs": [],
   "source": [
    "population.loc[(population['year']==1984)]"
   ]
  },
  {
   "cell_type": "code",
   "execution_count": null,
   "metadata": {},
   "outputs": [],
   "source": [
    "population.to_sql(name='tbl_population', con=engine, if_exists='append', index=False)"
   ]
  },
  {
   "cell_type": "code",
   "execution_count": null,
   "metadata": {},
   "outputs": [],
   "source": []
  }
 ],
 "metadata": {
  "kernelspec": {
   "display_name": "PythonData38",
   "language": "python",
   "name": "pythondata38"
  },
  "language_info": {
   "codemirror_mode": {
    "name": "ipython",
    "version": 3
   },
   "file_extension": ".py",
   "mimetype": "text/x-python",
   "name": "python",
   "nbconvert_exporter": "python",
   "pygments_lexer": "ipython3",
   "version": "3.9.12"
  },
  "vscode": {
   "interpreter": {
    "hash": "7113e3970f98a4d04de61aad7e2a4e99472b30f3b9a9e79f0555aab5ccdb8ff2"
   }
  }
 },
 "nbformat": 4,
 "nbformat_minor": 2
}
